{
 "cells": [
  {
   "cell_type": "markdown",
   "id": "90adecfc",
   "metadata": {},
   "source": [
    "# Extend Link in Python"
   ]
  },
  {
   "cell_type": "code",
   "execution_count": 1,
   "id": "2cd29ba2",
   "metadata": {},
   "outputs": [],
   "source": [
    "import spu.libspu.link as link"
   ]
  },
  {
   "cell_type": "code",
   "execution_count": null,
   "id": "9edaf978",
   "metadata": {},
   "outputs": [],
   "source": [
    "class HttpChannel(link.IChannel):\n",
    "    def __init__(self, peer_url: str):\n",
    "        super().__init__()\n",
    "        self.peer_url = peer_url"
   ]
  }
 ],
 "metadata": {
  "kernelspec": {
   "display_name": "spu",
   "language": "python",
   "name": "python3"
  },
  "language_info": {
   "codemirror_mode": {
    "name": "ipython",
    "version": 3
   },
   "file_extension": ".py",
   "mimetype": "text/x-python",
   "name": "python",
   "nbconvert_exporter": "python",
   "pygments_lexer": "ipython3",
   "version": "3.10.10"
  }
 },
 "nbformat": 4,
 "nbformat_minor": 5
}
