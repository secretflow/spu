{
    "cells": [
        {
            "cell_type": "markdown",
            "id": "ffe4a0f6-6f41-47fe-856e-cff892d63b6e",
            "metadata": {},
            "source": [
                "# SPU Inside"
            ]
        },
        {
            "cell_type": "markdown",
            "id": "f93887c6-3641-479c-a58e-b8e2f57a9254",
            "metadata": {},
            "source": [
                "SPU is a virtual device backed by an MPC engine, which provides an *arithmetic black box* abstraction to front-end users. Just like other *black boxes*, it's not easy to understand what happened inside it.\n",
                "\n",
                "For this reason, SPU provides some features to show what happened inside it, this document demonstrates these features. \n",
                "\n",
                "## Simulation\n",
                "\n",
                "As the name suggests, *multi-party computation* is born to be distributed system with multiple participants, which makes it harder to setup, debug and inspect. So SPU provides a *simulation module* that uses threads to simulate multi-parties in a single process.  All parties acts exactly the same as in production environment, so we can use it as a playground to inspect the internals of SPU.\n",
                "\n",
                "To use the simulation module, we can simple do"
            ]
        },
        {
            "cell_type": "code",
            "execution_count": 1,
            "id": "0ad5b8d2-42b1-4a52-bce7-029ad140b092",
            "metadata": {},
            "outputs": [
                {
                    "name": "stdout",
                    "output_type": "stream",
                    "text": [
                        "[2022-05-12 11:58:14.128] [info] [thread_pool.cc:18] Create a fixed thread pool with size 64\n"
                    ]
                }
            ],
            "source": [
                "import spu\n",
                "import jax.numpy as jnp\n",
                "import numpy as np\n",
                "\n",
                "# import spu simulation module\n",
                "import spu.binding.util.simulation as pps"
            ]
        },
        {
            "cell_type": "markdown",
            "id": "a7f6c030-f1d8-4c7b-a854-05037a867c4c",
            "metadata": {},
            "source": [
                "Now we can create SPU simulator and run program on it."
            ]
        },
        {
            "cell_type": "code",
            "execution_count": 2,
            "id": "c462ad19-fa12-46b8-8461-3e8e4d736820",
            "metadata": {},
            "outputs": [
                {
                    "name": "stderr",
                    "output_type": "stream",
                    "text": [
                        "WARNING:absl:No GPU/TPU found, falling back to CPU. (Set TF_CPP_MIN_LOG_LEVEL=0 and rerun for more info.)\n"
                    ]
                },
                {
                    "name": "stdout",
                    "output_type": "stream",
                    "text": [
                        "[[ 6.  8.]\n",
                        " [10. 12.]]\n"
                    ]
                }
            ],
            "source": [
                "# create a simulator with ABY3 x Ring64 protocol.\n",
                "protocol = spu.ProtocolKind.ABY3\n",
                "field = spu.FieldType.FM64\n",
                "simulator = pps.Simulator.simple(3, protocol, field)\n",
                "\n",
                "# decorate a jnp function to a simulated function\n",
                "spu_add = pps.sim_jax(simulator, jnp.add)\n",
                "\n",
                "# now we can call spu_fn like normal jnp fn.\n",
                "x = np.array([[1., 2.], [3., 4.]])\n",
                "y = np.array([[5., 6.], [7., 8.]])\n",
                "\n",
                "# the function is simulated on SPU VM, which use 3 threads to simulate different parties.\n",
                "# the actual progress is exactly the same as real distributed version. \n",
                "z = spu_add(x, y)\n",
                "\n",
                "print(z)"
            ]
        },
        {
            "cell_type": "markdown",
            "id": "af286f9b-76de-40c6-a8bd-562e25056a2b",
            "metadata": {},
            "source": [
                "In the above code.\n",
                "- First, we create an SPU simulator backed by *ABY3* protocol with *FM64* field.\n",
                "- Then we decorates a jax function `jax.add` to make it a SPU simulated function.\n",
                "- Then we can use the simulated function just like normal python functions.\n",
                "\n",
                "As the result suggests, it behaves like a python function, we can also print the compiled pphlo program with"
            ]
        },
        {
            "cell_type": "code",
            "execution_count": 3,
            "id": "0e72f4d7-ce6b-4be0-952a-5abd28e94596",
            "metadata": {},
            "outputs": [
                {
                    "name": "stdout",
                    "output_type": "stream",
                    "text": [
                        "module @xla_computation_add.0 {\n",
                        "  func @main(%arg0: tensor<2x2x!pphlo.sec<f32>>, %arg1: tensor<2x2x!pphlo.sec<f32>>) -> tensor<2x2x!pphlo.sec<f32>> {\n",
                        "    %0 = \"pphlo.add\"(%arg0, %arg1) : (tensor<2x2x!pphlo.sec<f32>>, tensor<2x2x!pphlo.sec<f32>>) -> tensor<2x2x!pphlo.sec<f32>>\n",
                        "    return %0 : tensor<2x2x!pphlo.sec<f32>>\n",
                        "  }\n",
                        "}\n",
                        "\n"
                    ]
                }
            ],
            "source": [
                "print(spu_add.pphlo)"
            ]
        },
        {
            "cell_type": "markdown",
            "id": "758889fd-930b-4ee0-a3c3-aba55f634840",
            "metadata": {},
            "source": [
                "The above code is a pphlo dialect in [MLIR](https://mlir.llvm.org/) format, which defines a `main` function that accepts two arguments and returns the sum as result.\n",
                "\n",
                "Besides single `jax.numpy` op, we can simulate any jax function on SPU, i.e."
            ]
        },
        {
            "cell_type": "code",
            "execution_count": 4,
            "id": "e39965e9-763e-4e8c-a01c-c277ac82a2cf",
            "metadata": {},
            "outputs": [
                {
                    "name": "stdout",
                    "output_type": "stream",
                    "text": [
                        "[2022-05-12 11:58:14.987] [info] [thread_pool.cc:18] Create a fixed thread pool with size 63\n",
                        "module @xla_computation_sigmoid.1 {\n",
                        "  func @main(%arg0: tensor<2x2x!pphlo.sec<f32>>) -> tensor<2x2x!pphlo.sec<f32>> {\n",
                        "    %0 = \"pphlo.constant\"() {value = dense<1.000000e+00> : tensor<2x2xf32>} : () -> tensor<2x2x!pphlo.pub<f32>>\n",
                        "    %1 = \"pphlo.negate\"(%arg0) : (tensor<2x2x!pphlo.sec<f32>>) -> tensor<2x2x!pphlo.sec<f32>>\n",
                        "    %2 = \"pphlo.exponential\"(%1) : (tensor<2x2x!pphlo.sec<f32>>) -> tensor<2x2x!pphlo.sec<f32>>\n",
                        "    %3 = \"pphlo.add\"(%2, %0) : (tensor<2x2x!pphlo.sec<f32>>, tensor<2x2x!pphlo.pub<f32>>) -> tensor<2x2x!pphlo.sec<f32>>\n",
                        "    %4 = \"pphlo.divide\"(%0, %3) : (tensor<2x2x!pphlo.pub<f32>>, tensor<2x2x!pphlo.sec<f32>>) -> tensor<2x2x!pphlo.sec<f32>>\n",
                        "    return %4 : tensor<2x2x!pphlo.sec<f32>>\n",
                        "  }\n",
                        "}\n",
                        "\n"
                    ]
                }
            ],
            "source": [
                "def sigmoid(x):\n",
                "    return 1 / (1 + jnp.exp(-x))\n",
                "\n",
                "spu_sigmoid = pps.sim_jax(simulator, sigmoid)\n",
                "spu_sigmoid(x)\n",
                "\n",
                "print(spu_sigmoid.pphlo)"
            ]
        },
        {
            "cell_type": "markdown",
            "id": "beaf5df8-be1f-4aad-89c7-37ac71009985",
            "metadata": {},
            "source": [
                "The above code is `spu function` which is composed of spu builtin ops.\n",
                "\n",
                "Note: since spu use [JIT](https://en.wikipedia.org/wiki/Just-in-time_compilation) compilation, so we have to execute the function before printing the compiled bytecode."
            ]
        },
        {
            "cell_type": "markdown",
            "id": "e21cbc2d-525c-4026-8477-2455e4937d77",
            "metadata": {},
            "source": [
                "## Profling\n",
                "\n",
                "Besides simple simulation, we can profile the simulated program, although the profiling result could NOT be \n",
                "used as a reference of SPU perf, it still gives some information of what happened.\n",
                "\n",
                "To use profiling, we have enabled some feature flags."
            ]
        },
        {
            "cell_type": "code",
            "execution_count": 5,
            "id": "a073c67c-9a29-41d8-b5e9-33d286ab6021",
            "metadata": {},
            "outputs": [],
            "source": [
                "config = spu.RuntimeConfig(protocol=protocol, field=field)\n",
                "config.enable_pphlo_profile = True\n",
                "simulator = pps.Simulator(3, config)"
            ]
        },
        {
            "cell_type": "markdown",
            "id": "ca5d2117-b5a2-4902-a724-6e51372016c2",
            "metadata": {},
            "source": [
                "`enable_pphlo_profile` tells SPU runtime to print information about pphlo, now, let's run the function on this new runtime."
            ]
        },
        {
            "cell_type": "code",
            "execution_count": 6,
            "id": "46826fca-6ded-4405-9a3c-81d8d74b4714",
            "metadata": {},
            "outputs": [
                {
                    "name": "stdout",
                    "output_type": "stream",
                    "text": [
                        "[2022-05-12 11:58:15.021] [info] [executor.cc:121] [Profiling] SPU execution completed, input processing took 8.141e-06s, execution took 0.005819865s, output processing took 7.908e-06s, total time 0.005836132s.\n",
                        "[2022-05-12 11:58:15.021] [info] [executor.cc:125] Detailed pphlo profiling data:\n",
                        "[2022-05-12 11:58:15.021] [info] [executor.cc:128] - pphlo.divide, executed 1 times, duration 0.003780705s\n",
                        "[2022-05-12 11:58:15.021] [info] [executor.cc:128] - pphlo.exponential, executed 1 times, duration 0.001587704s\n",
                        "[2022-05-12 11:58:15.021] [info] [executor.cc:128] - pphlo.constant, executed 1 times, duration 1.2125e-05s\n",
                        "[2022-05-12 11:58:15.021] [info] [executor.cc:128] - pphlo.add, executed 1 times, duration 1.4976e-05s\n",
                        "[2022-05-12 11:58:15.021] [info] [executor.cc:128] - pphlo.negate, executed 1 times, duration 3.4334e-05s\n"
                    ]
                }
            ],
            "source": [
                "spu_sigmoid = pps.sim_jax(simulator, sigmoid)\n",
                "z = spu_sigmoid(x)"
            ]
        },
        {
            "cell_type": "markdown",
            "id": "15ceca0a-737f-42e8-b46c-751e788e62bd",
            "metadata": {},
            "source": [
                "The above log tells the total execution time and the detailed statistics of each builtin function.\n",
                "\n",
                "Besides the `enable_pphlo_profile` feature flag, SPU has other flags like `enable_hal_profile` to dump runtime information in different levels of instructions.\n",
                "\n",
                "## Tracing\n",
                "\n",
                "*Profiling* can only tell the statistics of SPU instructions, it's still hard to understand what happened inside it.\n",
                "*Tracing* is a feature that used to print verbose `call stack`, which helps to understand/inspect what exactly happened.\n",
                "\n",
                "To enable tracing features, just set `enable_action_trace` in the runtime config."
            ]
        },
        {
            "cell_type": "code",
            "execution_count": 7,
            "id": "918f3728-11f7-4a19-b49e-ac9e16c87955",
            "metadata": {},
            "outputs": [],
            "source": [
                "config = spu.RuntimeConfig(protocol=protocol, field=field)\n",
                "config.enable_action_trace = True\n",
                "simulator = pps.Simulator(3, config)"
            ]
        },
        {
            "cell_type": "markdown",
            "id": "e1767cb2-fb8c-4f89-83fe-91c332aef1cc",
            "metadata": {},
            "source": [
                "Now, let's run another function on this `tracing enabled` simulator."
            ]
        },
        {
            "cell_type": "code",
            "execution_count": 8,
            "id": "0837177f-6406-454a-ac9e-780e4d4cd8db",
            "metadata": {},
            "outputs": [
                {
                    "name": "stdout",
                    "output_type": "stream",
                    "text": [
                        "[SPU-TRACE]   hlo.mul(Value<2x2xSFXP>,Value<2x2xSFXP>)\n",
                        "[SPU-TRACE]     hal.f_mul(Value<2x2xSFXP>,Value<2x2xSFXP>)\n",
                        "[SPU-TRACE]       hal._mul(Value<2x2xSFXP>,Value<2x2xSFXP>)\n",
                        "[SPU-TRACE]         hal._mul_ss(Value<2x2xSFXP>,Value<2x2xSFXP>)\n",
                        "[SPU-TRACE]           mpc.mul_ss(ArrayRef<4xaby3.AShr<FM64>>,ArrayRef<4xaby3.AShr<FM64>>)\n",
                        "[SPU-TRACE]             mpc.mul_aa(ArrayRef<4xaby3.AShr<FM64>>,ArrayRef<4xaby3.AShr<FM64>>)\n",
                        "[SPU-TRACE]       hal._trunc(Value<2x2xS*>,0)\n",
                        "[SPU-TRACE]         hal._truncpr_s(Value<2x2xS*>,18)\n",
                        "[SPU-TRACE]           mpc.truncpr_s(ArrayRef<4xaby3.AShr<FM64>>,18)\n",
                        "[SPU-TRACE]             mpc.truncpr_a(ArrayRef<4xaby3.AShr<FM64>>,18)\n"
                    ]
                }
            ],
            "source": [
                "spu_mul = pps.sim_jax(simulator, jnp.multiply)\n",
                "z = spu_mul(x, y)"
            ]
        },
        {
            "cell_type": "markdown",
            "id": "b39bc0e3-ba47-4cad-8e49-ad397f289f26",
            "metadata": {},
            "source": [
                "At the first glance, the trace log is a bit of frustrating, so it worth a little while to explain it.\n",
                "\n",
                "At the very begining, is the entry point of `multiply` function with format\n",
                "```\n",
                "module.op(value_type...)\n",
                "```\n",
                "\n",
                "So the first line `hlo.mul(Value<2x2xsfxp>,Value<2x2xsfxp>)` means:\n",
                "- the module is `hlo`\n",
                "- the operator is `mul`\n",
                "- the two args are both `Value<2x2xsfxp>`\n",
                "\n",
                "Note, `hlo` is short for `High Level Operations`, `hal` is short for `hardware abstraction layer`, `mpc` is short for `multi-party computation`.\n",
                "\n",
                "The `Value<2x2xsfxp>` means it's a **S**ecret **F**i**X**ed **P**ointed tensor with shape(**2x2**). \n",
                "\n",
                "1. the runtime dispatches the function according parameters datatype (in this case *fxp*), then calls the corresponding fixed point handle function `hal.f_mul`, the prefix `f_` means its for fixed point.\n",
                "2. the runtime dispatches `hal.f_mul` to the untyped version `hal._mul` which operate on `rings`.\n",
                "3. the runtime dispatches `hal._mul` according to the *visibility* type, since both parameters are **secret**, so `hal._mul_ss` is called, the postfix `_ss` indicates it operates on two secrets.\n",
                "\n",
                "Then the function `hal._mul_ss` is dispatched to the MPC layer, the signature becomes more complicated.\n",
                "```\n",
                "mpc.mul_ss(ArrayRef<4xaby3.AShr<FM64>>,ArrayRef<4xaby3.AShr<FM64>>)\n",
                "```\n",
                "The signature of operation is the same as above, `mpc.mul_ss` indicates the module is `mpc` and the operation is `mul_ss`.\n",
                "\n",
                "The type `ArrayRef<4xaby3.AShr<FM64>>` has two notable differences:\n",
                "1. unlike hal ops, mpc ops operates on 1D-array instead of tensor, which makes it a more standard SIMD instruction.\n",
                "2. the type `aby3.AShr<FM64>` is protocol dependent, in this case, it's a *ABY3* arithmetic share in FM64.\n",
                "\n",
                "Finally, it's dispatched to `mpc.mul_aa`, the postfix `_aa` indicates both parameters are arithmetic shares, then the ABY3 additive share add protocol is performed.\n",
                "\n",
                "But `f_mul` could not be done with ring multiplication only, we have to `truncate` the result to make the fixed point legal, in the following three lines, `hal._trunc` is called and finally dispatched to `mpc.truncpr_a` protocol."
            ]
        },
        {
            "cell_type": "markdown",
            "id": "3f80f56e-1e1d-49fc-866d-e91faed5b10e",
            "metadata": {},
            "source": [
                "The above example is pretty straight forward, now let's make it harder.\n",
                "\n",
                "Fixed point reciprocal is done with [Goldschmidt](https://en.wikipedia.org/wiki/Division_algorithm#Goldschmidt_division) approximation algorithm, the algorithm itself is not that simple, and when it's executed on MPC, things become more complicated.\n",
                "\n",
                "It takes a lot of effort to understand how it works, let's directly see the tracing result."
            ]
        },
        {
            "cell_type": "code",
            "execution_count": 9,
            "id": "2bddac60-6e07-459b-8d26-6d77efdfb3d5",
            "metadata": {},
            "outputs": [
                {
                    "name": "stdout",
                    "output_type": "stream",
                    "text": [
                        "[SPU-TRACE]   hal.constant(PtBufferView<0x7f1fc404cfc0,xPT_F32,>,)\n",
                        "[SPU-TRACE]     hal.make_pub2k(PtBufferView<0x7f1fc404cfc0,xPT_F32,>)\n",
                        "[SPU-TRACE]   hal.broadcast_to(Value<xPFXP>,2x2)\n",
                        "[SPU-TRACE]   hlo.div(Value<2x2xPFXP>,Value<2x2xSFXP>)\n",
                        "[SPU-TRACE]     hal.dtype_cast(Value<2x2xPFXP>,FXP)\n",
                        "[SPU-TRACE]     hal.dtype_cast(Value<2x2xSFXP>,FXP)\n",
                        "[SPU-TRACE]     hal.f_div(Value<2x2xPFXP>,Value<2x2xSFXP>)\n",
                        "[SPU-TRACE]       hal.div_goldschmidt(Value<2x2xPFXP>,Value<2x2xSFXP>)\n",
                        "[SPU-TRACE]         hal._sign(Value<2x2xSFXP>)\n",
                        "[SPU-TRACE]           hal._msb(Value<2x2xSFXP>)\n",
                        "[SPU-TRACE]             hal._msb_s(Value<2x2xSFXP>)\n",
                        "[SPU-TRACE]               mpc.msb_s(ArrayRef<4xaby3.AShr<FM64>>)\n",
                        "[SPU-TRACE]                 mpc.a2b(ArrayRef<4xaby3.AShr<FM64>>)\n",
                        "[SPU-TRACE]                   mpc.add_bb(ArrayRef<4xaby3.BShr<FM64,64>>,ArrayRef<4xaby3.BShr<FM64,64>>)\n",
                        "[SPU-TRACE]                     mpc.xor_bb(ArrayRef<4xaby3.BShr<FM64,64>>,ArrayRef<4xaby3.BShr<FM64,64>>)\n",
                        "[SPU-TRACE]                     mpc.and_bb(ArrayRef<4xaby3.BShr<FM64,64>>,ArrayRef<4xaby3.BShr<FM64,64>>)\n",
                        "[SPU-TRACE]                     mpc.lshift_b(ArrayRef<4xaby3.BShr<FM64,64>>,1)\n",
                        "[SPU-TRACE]                     mpc.lshift_b(ArrayRef<4xaby3.BShr<FM64,64>>,1)\n",
                        "[SPU-TRACE]                     mpc.and_bb(ArrayRef<8xaby3.BShr<FM64,64>>,ArrayRef<8xaby3.BShr<FM64,64>>)\n",
                        "[SPU-TRACE]                     mpc.xor_bb(ArrayRef<4xaby3.BShr<FM64,64>>,ArrayRef<4xaby3.BShr<FM64,64>>)\n",
                        "[SPU-TRACE]                     mpc.lshift_b(ArrayRef<4xaby3.BShr<FM64,64>>,2)\n",
                        "[SPU-TRACE]                     mpc.lshift_b(ArrayRef<4xaby3.BShr<FM64,64>>,2)\n",
                        "[SPU-TRACE]                     mpc.and_bb(ArrayRef<8xaby3.BShr<FM64,64>>,ArrayRef<8xaby3.BShr<FM64,64>>)\n",
                        "[SPU-TRACE]                     mpc.xor_bb(ArrayRef<4xaby3.BShr<FM64,64>>,ArrayRef<4xaby3.BShr<FM64,64>>)\n",
                        "[SPU-TRACE]                     mpc.lshift_b(ArrayRef<4xaby3.BShr<FM64,64>>,4)\n",
                        "[SPU-TRACE]                     mpc.lshift_b(ArrayRef<4xaby3.BShr<FM64,64>>,4)\n",
                        "[SPU-TRACE]                     mpc.and_bb(ArrayRef<8xaby3.BShr<FM64,64>>,ArrayRef<8xaby3.BShr<FM64,64>>)\n",
                        "[SPU-TRACE]                     mpc.xor_bb(ArrayRef<4xaby3.BShr<FM64,64>>,ArrayRef<4xaby3.BShr<FM64,64>>)\n",
                        "[SPU-TRACE]                     mpc.lshift_b(ArrayRef<4xaby3.BShr<FM64,64>>,8)\n",
                        "[SPU-TRACE]                     mpc.lshift_b(ArrayRef<4xaby3.BShr<FM64,64>>,8)\n",
                        "[SPU-TRACE]                     mpc.and_bb(ArrayRef<8xaby3.BShr<FM64,64>>,ArrayRef<8xaby3.BShr<FM64,64>>)\n",
                        "[SPU-TRACE]                     mpc.xor_bb(ArrayRef<4xaby3.BShr<FM64,64>>,ArrayRef<4xaby3.BShr<FM64,64>>)\n",
                        "[SPU-TRACE]                     mpc.lshift_b(ArrayRef<4xaby3.BShr<FM64,64>>,16)\n",
                        "[SPU-TRACE]                     mpc.lshift_b(ArrayRef<4xaby3.BShr<FM64,64>>,16)\n",
                        "[SPU-TRACE]                     mpc.and_bb(ArrayRef<8xaby3.BShr<FM64,64>>,ArrayRef<8xaby3.BShr<FM64,64>>)\n",
                        "[SPU-TRACE]                     mpc.xor_bb(ArrayRef<4xaby3.BShr<FM64,64>>,ArrayRef<4xaby3.BShr<FM64,64>>)\n",
                        "[SPU-TRACE]                     mpc.lshift_b(ArrayRef<4xaby3.BShr<FM64,64>>,32)\n",
                        "[SPU-TRACE]                     mpc.lshift_b(ArrayRef<4xaby3.BShr<FM64,64>>,32)\n",
                        "[SPU-TRACE]                     mpc.and_bb(ArrayRef<8xaby3.BShr<FM64,64>>,ArrayRef<8xaby3.BShr<FM64,64>>)\n",
                        "[SPU-TRACE]                     mpc.xor_bb(ArrayRef<4xaby3.BShr<FM64,64>>,ArrayRef<4xaby3.BShr<FM64,64>>)\n",
                        "[SPU-TRACE]                     mpc.lshift_b(ArrayRef<4xaby3.BShr<FM64,64>>,1)\n",
                        "[SPU-TRACE]                     mpc.xor_bb(ArrayRef<4xaby3.BShr<FM64,64>>,ArrayRef<4xaby3.BShr<FM64,64>>)\n",
                        "[SPU-TRACE]                 mpc.rshift_b(ArrayRef<4xaby3.BShr<FM64,64>>,63)\n",
                        "[SPU-TRACE]           hal.constant(PtBufferView<0x7f1fd2ffa8e0,xPT_I32,>,2x2)\n",
                        "[SPU-TRACE]             hal.make_pub2k(PtBufferView<0x7f1fd2ffa8e0,xPT_I32,>)\n",
                        "[SPU-TRACE]             hal.broadcast_to(Value<xPI32>,2x2)\n",
                        "[SPU-TRACE]           hal.constant(PtBufferView<0x7f1fd2ffa81c,xPT_I32,>,2x2)\n",
                        "[SPU-TRACE]             hal.make_pub2k(PtBufferView<0x7f1fd2ffa81c,xPT_I32,>)\n",
                        "[SPU-TRACE]             hal.broadcast_to(Value<xPI32>,2x2)\n",
                        "[SPU-TRACE]           hal._mul(Value<2x2xPI32>,Value<2x2xS*>)\n",
                        "[SPU-TRACE]             hal._mul_sp(Value<2x2xS*>,Value<2x2xPI32>)\n",
                        "[SPU-TRACE]               mpc.mul_sp(ArrayRef<4xaby3.BShr<FM64,1>>,ArrayRef<4xPub2k<FM64>>)\n",
                        "[SPU-TRACE]                 mpc.b2a(ArrayRef<4xaby3.BShr<FM64,1>>)\n",
                        "[SPU-TRACE]                 mpc.mul_ap(ArrayRef<4xaby3.AShr<FM64>>,ArrayRef<4xPub2k<FM64>>)\n",
                        "[SPU-TRACE]           hal._sub(Value<2x2xPI32>,Value<2x2xS*>)\n",
                        "[SPU-TRACE]             hal._negate(Value<2x2xS*>)\n",
                        "[SPU-TRACE]               hal.constant(PtBufferView<0x7f1fd2ffa5ec,xPT_I32,>,2x2)\n",
                        "[SPU-TRACE]                 hal.make_pub2k(PtBufferView<0x7f1fd2ffa5ec,xPT_I32,>)\n",
                        "[SPU-TRACE]                 hal.broadcast_to(Value<xPI32>,2x2)\n",
                        "[SPU-TRACE]               hal._not(Value<2x2xS*>)\n",
                        "[SPU-TRACE]                 hal._not_s(Value<2x2xS*>)\n",
                        "[SPU-TRACE]                   mpc.not_s(ArrayRef<4xaby3.AShr<FM64>>)\n",
                        "[SPU-TRACE]                     mpc.not_a(ArrayRef<4xaby3.AShr<FM64>>)\n",
                        "[SPU-TRACE]               hal._add(Value<2x2xS*>,Value<2x2xPI32>)\n",
                        "[SPU-TRACE]                 hal._add_sp(Value<2x2xS*>,Value<2x2xPI32>)\n",
                        "[SPU-TRACE]                   mpc.add_sp(ArrayRef<4xaby3.AShr<FM64>>,ArrayRef<4xPub2k<FM64>>)\n",
                        "[SPU-TRACE]                     mpc.add_ap(ArrayRef<4xaby3.AShr<FM64>>,ArrayRef<4xPub2k<FM64>>)\n",
                        "[SPU-TRACE]             hal._add(Value<2x2xPI32>,Value<2x2xS*>)\n",
                        "[SPU-TRACE]               hal._add_sp(Value<2x2xS*>,Value<2x2xPI32>)\n",
                        "[SPU-TRACE]                 mpc.add_sp(ArrayRef<4xaby3.AShr<FM64>>,ArrayRef<4xPub2k<FM64>>)\n",
                        "[SPU-TRACE]                   mpc.add_ap(ArrayRef<4xaby3.AShr<FM64>>,ArrayRef<4xPub2k<FM64>>)\n",
                        "[SPU-TRACE]         hal._mul(Value<2x2xS*>,Value<2x2xSFXP>)\n",
                        "[SPU-TRACE]           hal._mul_ss(Value<2x2xSFXP>,Value<2x2xS*>)\n",
                        "[SPU-TRACE]             mpc.mul_ss(ArrayRef<4xaby3.AShr<FM64>>,ArrayRef<4xaby3.AShr<FM64>>)\n",
                        "[SPU-TRACE]               mpc.mul_aa(ArrayRef<4xaby3.AShr<FM64>>,ArrayRef<4xaby3.AShr<FM64>>)\n",
                        "[SPU-TRACE]         hal.constant(PtBufferView<0x7f1fd2ffa7ec,xPT_I32,>,2x2)\n",
                        "[SPU-TRACE]           hal.make_pub2k(PtBufferView<0x7f1fd2ffa7ec,xPT_I32,>)\n",
                        "[SPU-TRACE]           hal.broadcast_to(Value<xPI32>,2x2)\n",
                        "[SPU-TRACE]         hal._xor(Value<2x2xSFXP>,Value<2x2xPI32>)\n",
                        "[SPU-TRACE]           hal._xor_sp(Value<2x2xSFXP>,Value<2x2xPI32>)\n",
                        "[SPU-TRACE]             mpc.xor_sp(ArrayRef<4xaby3.AShr<FM64>>,ArrayRef<4xPub2k<FM64>>)\n",
                        "[SPU-TRACE]               mpc.a2b(ArrayRef<4xaby3.AShr<FM64>>)\n",
                        "[SPU-TRACE]                 mpc.add_bb(ArrayRef<4xaby3.BShr<FM64,64>>,ArrayRef<4xaby3.BShr<FM64,64>>)\n",
                        "[SPU-TRACE]                   mpc.xor_bb(ArrayRef<4xaby3.BShr<FM64,64>>,ArrayRef<4xaby3.BShr<FM64,64>>)\n",
                        "[SPU-TRACE]                   mpc.and_bb(ArrayRef<4xaby3.BShr<FM64,64>>,ArrayRef<4xaby3.BShr<FM64,64>>)\n",
                        "[SPU-TRACE]                   mpc.lshift_b(ArrayRef<4xaby3.BShr<FM64,64>>,1)\n",
                        "[SPU-TRACE]                   mpc.lshift_b(ArrayRef<4xaby3.BShr<FM64,64>>,1)\n",
                        "[SPU-TRACE]                   mpc.and_bb(ArrayRef<8xaby3.BShr<FM64,64>>,ArrayRef<8xaby3.BShr<FM64,64>>)\n",
                        "[SPU-TRACE]                   mpc.xor_bb(ArrayRef<4xaby3.BShr<FM64,64>>,ArrayRef<4xaby3.BShr<FM64,64>>)\n",
                        "[SPU-TRACE]                   mpc.lshift_b(ArrayRef<4xaby3.BShr<FM64,64>>,2)\n",
                        "[SPU-TRACE]                   mpc.lshift_b(ArrayRef<4xaby3.BShr<FM64,64>>,2)\n",
                        "[SPU-TRACE]                   mpc.and_bb(ArrayRef<8xaby3.BShr<FM64,64>>,ArrayRef<8xaby3.BShr<FM64,64>>)\n",
                        "[SPU-TRACE]                   mpc.xor_bb(ArrayRef<4xaby3.BShr<FM64,64>>,ArrayRef<4xaby3.BShr<FM64,64>>)\n",
                        "[SPU-TRACE]                   mpc.lshift_b(ArrayRef<4xaby3.BShr<FM64,64>>,4)\n",
                        "[SPU-TRACE]                   mpc.lshift_b(ArrayRef<4xaby3.BShr<FM64,64>>,4)\n",
                        "[SPU-TRACE]                   mpc.and_bb(ArrayRef<8xaby3.BShr<FM64,64>>,ArrayRef<8xaby3.BShr<FM64,64>>)\n",
                        "[SPU-TRACE]                   mpc.xor_bb(ArrayRef<4xaby3.BShr<FM64,64>>,ArrayRef<4xaby3.BShr<FM64,64>>)\n",
                        "[SPU-TRACE]                   mpc.lshift_b(ArrayRef<4xaby3.BShr<FM64,64>>,8)\n",
                        "[SPU-TRACE]                   mpc.lshift_b(ArrayRef<4xaby3.BShr<FM64,64>>,8)\n",
                        "[SPU-TRACE]                   mpc.and_bb(ArrayRef<8xaby3.BShr<FM64,64>>,ArrayRef<8xaby3.BShr<FM64,64>>)\n",
                        "[SPU-TRACE]                   mpc.xor_bb(ArrayRef<4xaby3.BShr<FM64,64>>,ArrayRef<4xaby3.BShr<FM64,64>>)\n",
                        "[SPU-TRACE]                   mpc.lshift_b(ArrayRef<4xaby3.BShr<FM64,64>>,16)\n",
                        "[SPU-TRACE]                   mpc.lshift_b(ArrayRef<4xaby3.BShr<FM64,64>>,16)\n",
                        "[SPU-TRACE]                   mpc.and_bb(ArrayRef<8xaby3.BShr<FM64,64>>,ArrayRef<8xaby3.BShr<FM64,64>>)\n",
                        "[SPU-TRACE]                   mpc.xor_bb(ArrayRef<4xaby3.BShr<FM64,64>>,ArrayRef<4xaby3.BShr<FM64,64>>)\n",
                        "[SPU-TRACE]                   mpc.lshift_b(ArrayRef<4xaby3.BShr<FM64,64>>,32)\n",
                        "[SPU-TRACE]                   mpc.lshift_b(ArrayRef<4xaby3.BShr<FM64,64>>,32)\n",
                        "[SPU-TRACE]                   mpc.and_bb(ArrayRef<8xaby3.BShr<FM64,64>>,ArrayRef<8xaby3.BShr<FM64,64>>)\n",
                        "[SPU-TRACE]                   mpc.xor_bb(ArrayRef<4xaby3.BShr<FM64,64>>,ArrayRef<4xaby3.BShr<FM64,64>>)\n",
                        "[SPU-TRACE]                   mpc.lshift_b(ArrayRef<4xaby3.BShr<FM64,64>>,1)\n",
                        "[SPU-TRACE]                   mpc.xor_bb(ArrayRef<4xaby3.BShr<FM64,64>>,ArrayRef<4xaby3.BShr<FM64,64>>)\n",
                        "[SPU-TRACE]               mpc.xor_bp(ArrayRef<4xaby3.BShr<FM64,64>>,ArrayRef<4xPub2k<FM64>>)\n",
                        "[SPU-TRACE]         hal._rshift(Value<2x2xS*>,1)\n",
                        "[SPU-TRACE]           hal._rshift_s(Value<2x2xS*>,1)\n",
                        "[SPU-TRACE]             mpc.rshift_s(ArrayRef<4xaby3.BShr<FM64,64>>,1)\n",
                        "[SPU-TRACE]               mpc.rshift_b(ArrayRef<4xaby3.BShr<FM64,64>>,1)\n",
                        "[SPU-TRACE]         hal._and(Value<2x2xS*>,Value<2x2xS*>)\n",
                        "[SPU-TRACE]           hal._and_ss(Value<2x2xS*>,Value<2x2xS*>)\n",
                        "[SPU-TRACE]             mpc.and_ss(ArrayRef<4xaby3.BShr<FM64,63>>,ArrayRef<4xaby3.BShr<FM64,64>>)\n",
                        "[SPU-TRACE]               mpc.and_bb(ArrayRef<4xaby3.BShr<FM64,63>>,ArrayRef<4xaby3.BShr<FM64,64>>)\n",
                        "[SPU-TRACE]         hal._xor(Value<2x2xS*>,Value<2x2xS*>)\n",
                        "[SPU-TRACE]           hal._xor_ss(Value<2x2xS*>,Value<2x2xS*>)\n",
                        "[SPU-TRACE]             mpc.xor_ss(ArrayRef<4xaby3.BShr<FM64,64>>,ArrayRef<4xaby3.BShr<FM64,63>>)\n",
                        "[SPU-TRACE]               mpc.xor_bb(ArrayRef<4xaby3.BShr<FM64,64>>,ArrayRef<4xaby3.BShr<FM64,63>>)\n",
                        "[SPU-TRACE]         hal._xor(Value<2x2xS*>,Value<2x2xS*>)\n",
                        "[SPU-TRACE]           hal._xor_ss(Value<2x2xS*>,Value<2x2xS*>)\n",
                        "[SPU-TRACE]             mpc.xor_ss(ArrayRef<4xaby3.BShr<FM64,64>>,ArrayRef<4xaby3.BShr<FM64,64>>)\n",
                        "[SPU-TRACE]               mpc.xor_bb(ArrayRef<4xaby3.BShr<FM64,64>>,ArrayRef<4xaby3.BShr<FM64,64>>)\n",
                        "[SPU-TRACE]         hal._rshift(Value<2x2xS*>,2)\n",
                        "[SPU-TRACE]           hal._rshift_s(Value<2x2xS*>,2)\n",
                        "[SPU-TRACE]             mpc.rshift_s(ArrayRef<4xaby3.BShr<FM64,64>>,2)\n",
                        "[SPU-TRACE]               mpc.rshift_b(ArrayRef<4xaby3.BShr<FM64,64>>,2)\n",
                        "[SPU-TRACE]         hal._and(Value<2x2xS*>,Value<2x2xS*>)\n",
                        "[SPU-TRACE]           hal._and_ss(Value<2x2xS*>,Value<2x2xS*>)\n",
                        "[SPU-TRACE]             mpc.and_ss(ArrayRef<4xaby3.BShr<FM64,62>>,ArrayRef<4xaby3.BShr<FM64,64>>)\n",
                        "[SPU-TRACE]               mpc.and_bb(ArrayRef<4xaby3.BShr<FM64,62>>,ArrayRef<4xaby3.BShr<FM64,64>>)\n",
                        "[SPU-TRACE]         hal._xor(Value<2x2xS*>,Value<2x2xS*>)\n",
                        "[SPU-TRACE]           hal._xor_ss(Value<2x2xS*>,Value<2x2xS*>)\n",
                        "[SPU-TRACE]             mpc.xor_ss(ArrayRef<4xaby3.BShr<FM64,64>>,ArrayRef<4xaby3.BShr<FM64,62>>)\n",
                        "[SPU-TRACE]               mpc.xor_bb(ArrayRef<4xaby3.BShr<FM64,64>>,ArrayRef<4xaby3.BShr<FM64,62>>)\n",
                        "[SPU-TRACE]         hal._xor(Value<2x2xS*>,Value<2x2xS*>)\n",
                        "[SPU-TRACE]           hal._xor_ss(Value<2x2xS*>,Value<2x2xS*>)\n",
                        "[SPU-TRACE]             mpc.xor_ss(ArrayRef<4xaby3.BShr<FM64,64>>,ArrayRef<4xaby3.BShr<FM64,64>>)\n",
                        "[SPU-TRACE]               mpc.xor_bb(ArrayRef<4xaby3.BShr<FM64,64>>,ArrayRef<4xaby3.BShr<FM64,64>>)\n",
                        "[SPU-TRACE]         hal._rshift(Value<2x2xS*>,4)\n",
                        "[SPU-TRACE]           hal._rshift_s(Value<2x2xS*>,4)\n",
                        "[SPU-TRACE]             mpc.rshift_s(ArrayRef<4xaby3.BShr<FM64,64>>,4)\n",
                        "[SPU-TRACE]               mpc.rshift_b(ArrayRef<4xaby3.BShr<FM64,64>>,4)\n",
                        "[SPU-TRACE]         hal._and(Value<2x2xS*>,Value<2x2xS*>)\n",
                        "[SPU-TRACE]           hal._and_ss(Value<2x2xS*>,Value<2x2xS*>)\n",
                        "[SPU-TRACE]             mpc.and_ss(ArrayRef<4xaby3.BShr<FM64,60>>,ArrayRef<4xaby3.BShr<FM64,64>>)\n",
                        "[SPU-TRACE]               mpc.and_bb(ArrayRef<4xaby3.BShr<FM64,60>>,ArrayRef<4xaby3.BShr<FM64,64>>)\n",
                        "[SPU-TRACE]         hal._xor(Value<2x2xS*>,Value<2x2xS*>)\n",
                        "[SPU-TRACE]           hal._xor_ss(Value<2x2xS*>,Value<2x2xS*>)\n",
                        "[SPU-TRACE]             mpc.xor_ss(ArrayRef<4xaby3.BShr<FM64,64>>,ArrayRef<4xaby3.BShr<FM64,60>>)\n",
                        "[SPU-TRACE]               mpc.xor_bb(ArrayRef<4xaby3.BShr<FM64,64>>,ArrayRef<4xaby3.BShr<FM64,60>>)\n",
                        "[SPU-TRACE]         hal._xor(Value<2x2xS*>,Value<2x2xS*>)\n",
                        "[SPU-TRACE]           hal._xor_ss(Value<2x2xS*>,Value<2x2xS*>)\n",
                        "[SPU-TRACE]             mpc.xor_ss(ArrayRef<4xaby3.BShr<FM64,64>>,ArrayRef<4xaby3.BShr<FM64,64>>)\n",
                        "[SPU-TRACE]               mpc.xor_bb(ArrayRef<4xaby3.BShr<FM64,64>>,ArrayRef<4xaby3.BShr<FM64,64>>)\n",
                        "[SPU-TRACE]         hal._rshift(Value<2x2xS*>,8)\n",
                        "[SPU-TRACE]           hal._rshift_s(Value<2x2xS*>,8)\n",
                        "[SPU-TRACE]             mpc.rshift_s(ArrayRef<4xaby3.BShr<FM64,64>>,8)\n",
                        "[SPU-TRACE]               mpc.rshift_b(ArrayRef<4xaby3.BShr<FM64,64>>,8)\n",
                        "[SPU-TRACE]         hal._and(Value<2x2xS*>,Value<2x2xS*>)\n",
                        "[SPU-TRACE]           hal._and_ss(Value<2x2xS*>,Value<2x2xS*>)\n",
                        "[SPU-TRACE]             mpc.and_ss(ArrayRef<4xaby3.BShr<FM64,56>>,ArrayRef<4xaby3.BShr<FM64,64>>)\n",
                        "[SPU-TRACE]               mpc.and_bb(ArrayRef<4xaby3.BShr<FM64,56>>,ArrayRef<4xaby3.BShr<FM64,64>>)\n",
                        "[SPU-TRACE]         hal._xor(Value<2x2xS*>,Value<2x2xS*>)\n",
                        "[SPU-TRACE]           hal._xor_ss(Value<2x2xS*>,Value<2x2xS*>)\n",
                        "[SPU-TRACE]             mpc.xor_ss(ArrayRef<4xaby3.BShr<FM64,64>>,ArrayRef<4xaby3.BShr<FM64,56>>)\n",
                        "[SPU-TRACE]               mpc.xor_bb(ArrayRef<4xaby3.BShr<FM64,64>>,ArrayRef<4xaby3.BShr<FM64,56>>)\n",
                        "[SPU-TRACE]         hal._xor(Value<2x2xS*>,Value<2x2xS*>)\n",
                        "[SPU-TRACE]           hal._xor_ss(Value<2x2xS*>,Value<2x2xS*>)\n",
                        "[SPU-TRACE]             mpc.xor_ss(ArrayRef<4xaby3.BShr<FM64,64>>,ArrayRef<4xaby3.BShr<FM64,64>>)\n",
                        "[SPU-TRACE]               mpc.xor_bb(ArrayRef<4xaby3.BShr<FM64,64>>,ArrayRef<4xaby3.BShr<FM64,64>>)\n",
                        "[SPU-TRACE]         hal._rshift(Value<2x2xS*>,16)\n",
                        "[SPU-TRACE]           hal._rshift_s(Value<2x2xS*>,16)\n",
                        "[SPU-TRACE]             mpc.rshift_s(ArrayRef<4xaby3.BShr<FM64,64>>,16)\n",
                        "[SPU-TRACE]               mpc.rshift_b(ArrayRef<4xaby3.BShr<FM64,64>>,16)\n",
                        "[SPU-TRACE]         hal._and(Value<2x2xS*>,Value<2x2xS*>)\n",
                        "[SPU-TRACE]           hal._and_ss(Value<2x2xS*>,Value<2x2xS*>)\n",
                        "[SPU-TRACE]             mpc.and_ss(ArrayRef<4xaby3.BShr<FM64,48>>,ArrayRef<4xaby3.BShr<FM64,64>>)\n",
                        "[SPU-TRACE]               mpc.and_bb(ArrayRef<4xaby3.BShr<FM64,48>>,ArrayRef<4xaby3.BShr<FM64,64>>)\n",
                        "[SPU-TRACE]         hal._xor(Value<2x2xS*>,Value<2x2xS*>)\n",
                        "[SPU-TRACE]           hal._xor_ss(Value<2x2xS*>,Value<2x2xS*>)\n",
                        "[SPU-TRACE]             mpc.xor_ss(ArrayRef<4xaby3.BShr<FM64,64>>,ArrayRef<4xaby3.BShr<FM64,48>>)\n",
                        "[SPU-TRACE]               mpc.xor_bb(ArrayRef<4xaby3.BShr<FM64,64>>,ArrayRef<4xaby3.BShr<FM64,48>>)\n",
                        "[SPU-TRACE]         hal._xor(Value<2x2xS*>,Value<2x2xS*>)\n",
                        "[SPU-TRACE]           hal._xor_ss(Value<2x2xS*>,Value<2x2xS*>)\n",
                        "[SPU-TRACE]             mpc.xor_ss(ArrayRef<4xaby3.BShr<FM64,64>>,ArrayRef<4xaby3.BShr<FM64,64>>)\n",
                        "[SPU-TRACE]               mpc.xor_bb(ArrayRef<4xaby3.BShr<FM64,64>>,ArrayRef<4xaby3.BShr<FM64,64>>)\n",
                        "[SPU-TRACE]         hal._rshift(Value<2x2xS*>,32)\n",
                        "[SPU-TRACE]           hal._rshift_s(Value<2x2xS*>,32)\n",
                        "[SPU-TRACE]             mpc.rshift_s(ArrayRef<4xaby3.BShr<FM64,64>>,32)\n",
                        "[SPU-TRACE]               mpc.rshift_b(ArrayRef<4xaby3.BShr<FM64,64>>,32)\n",
                        "[SPU-TRACE]         hal._and(Value<2x2xS*>,Value<2x2xS*>)\n",
                        "[SPU-TRACE]           hal._and_ss(Value<2x2xS*>,Value<2x2xS*>)\n",
                        "[SPU-TRACE]             mpc.and_ss(ArrayRef<4xaby3.BShr<FM64,32>>,ArrayRef<4xaby3.BShr<FM64,64>>)\n",
                        "[SPU-TRACE]               mpc.and_bb(ArrayRef<4xaby3.BShr<FM64,32>>,ArrayRef<4xaby3.BShr<FM64,64>>)\n",
                        "[SPU-TRACE]         hal._xor(Value<2x2xS*>,Value<2x2xS*>)\n",
                        "[SPU-TRACE]           hal._xor_ss(Value<2x2xS*>,Value<2x2xS*>)\n",
                        "[SPU-TRACE]             mpc.xor_ss(ArrayRef<4xaby3.BShr<FM64,64>>,ArrayRef<4xaby3.BShr<FM64,32>>)\n",
                        "[SPU-TRACE]               mpc.xor_bb(ArrayRef<4xaby3.BShr<FM64,64>>,ArrayRef<4xaby3.BShr<FM64,32>>)\n",
                        "[SPU-TRACE]         hal._xor(Value<2x2xS*>,Value<2x2xS*>)\n",
                        "[SPU-TRACE]           hal._xor_ss(Value<2x2xS*>,Value<2x2xS*>)\n",
                        "[SPU-TRACE]             mpc.xor_ss(ArrayRef<4xaby3.BShr<FM64,64>>,ArrayRef<4xaby3.BShr<FM64,64>>)\n",
                        "[SPU-TRACE]               mpc.xor_bb(ArrayRef<4xaby3.BShr<FM64,64>>,ArrayRef<4xaby3.BShr<FM64,64>>)\n",
                        "[SPU-TRACE]         hal._rshift(Value<2x2xS*>,64)\n",
                        "[SPU-TRACE]           hal._rshift_s(Value<2x2xS*>,64)\n",
                        "[SPU-TRACE]             mpc.rshift_s(ArrayRef<4xaby3.BShr<FM64,64>>,64)\n",
                        "[SPU-TRACE]               mpc.rshift_b(ArrayRef<4xaby3.BShr<FM64,64>>,64)\n",
                        "[SPU-TRACE]         hal._and(Value<2x2xS*>,Value<2x2xS*>)\n",
                        "[SPU-TRACE]           hal._and_ss(Value<2x2xS*>,Value<2x2xS*>)\n",
                        "[SPU-TRACE]             mpc.and_ss(ArrayRef<4xaby3.BShr<FM64,64>>,ArrayRef<4xaby3.BShr<FM64,64>>)\n",
                        "[SPU-TRACE]               mpc.and_bb(ArrayRef<4xaby3.BShr<FM64,64>>,ArrayRef<4xaby3.BShr<FM64,64>>)\n",
                        "[SPU-TRACE]         hal._xor(Value<2x2xS*>,Value<2x2xS*>)\n",
                        "[SPU-TRACE]           hal._xor_ss(Value<2x2xS*>,Value<2x2xS*>)\n",
                        "[SPU-TRACE]             mpc.xor_ss(ArrayRef<4xaby3.BShr<FM64,64>>,ArrayRef<4xaby3.BShr<FM64,64>>)\n",
                        "[SPU-TRACE]               mpc.xor_bb(ArrayRef<4xaby3.BShr<FM64,64>>,ArrayRef<4xaby3.BShr<FM64,64>>)\n",
                        "[SPU-TRACE]         hal._xor(Value<2x2xS*>,Value<2x2xS*>)\n",
                        "[SPU-TRACE]           hal._xor_ss(Value<2x2xS*>,Value<2x2xS*>)\n",
                        "[SPU-TRACE]             mpc.xor_ss(ArrayRef<4xaby3.BShr<FM64,64>>,ArrayRef<4xaby3.BShr<FM64,64>>)\n",
                        "[SPU-TRACE]               mpc.xor_bb(ArrayRef<4xaby3.BShr<FM64,64>>,ArrayRef<4xaby3.BShr<FM64,64>>)\n",
                        "[SPU-TRACE]         hal._rshift(Value<2x2xS*>,1)\n",
                        "[SPU-TRACE]           hal._rshift_s(Value<2x2xS*>,1)\n",
                        "[SPU-TRACE]             mpc.rshift_s(ArrayRef<4xaby3.BShr<FM64,64>>,1)\n",
                        "[SPU-TRACE]               mpc.rshift_b(ArrayRef<4xaby3.BShr<FM64,64>>,1)\n",
                        "[SPU-TRACE]         hal._xor(Value<2x2xS*>,Value<2x2xS*>)\n",
                        "[SPU-TRACE]           hal._xor_ss(Value<2x2xS*>,Value<2x2xS*>)\n",
                        "[SPU-TRACE]             mpc.xor_ss(ArrayRef<4xaby3.BShr<FM64,63>>,ArrayRef<4xaby3.BShr<FM64,64>>)\n",
                        "[SPU-TRACE]               mpc.xor_bb(ArrayRef<4xaby3.BShr<FM64,63>>,ArrayRef<4xaby3.BShr<FM64,64>>)\n",
                        "[SPU-TRACE]         hal._bitrev(Value<2x2xS*>,0,36)\n",
                        "[SPU-TRACE]           hal._bitrev_s(Value<2x2xS*>,0,36)\n",
                        "[SPU-TRACE]             mpc.bitrev_s(ArrayRef<4xaby3.BShr<FM64,64>>,0,36)\n",
                        "[SPU-TRACE]               mpc.bitrev_b(ArrayRef<4xaby3.BShr<FM64,64>>,0,36)\n",
                        "[SPU-TRACE]         hal.f_mul(Value<2x2xSFXP>,Value<2x2xSFXP>)\n",
                        "[SPU-TRACE]           hal._mul(Value<2x2xSFXP>,Value<2x2xSFXP>)\n",
                        "[SPU-TRACE]             hal._mul_ss(Value<2x2xSFXP>,Value<2x2xSFXP>)\n",
                        "[SPU-TRACE]               mpc.mul_ss(ArrayRef<4xaby3.BShr<FM64,64>>,ArrayRef<4xaby3.AShr<FM64>>)\n",
                        "[SPU-TRACE]                 mpc.b2a(ArrayRef<4xaby3.BShr<FM64,64>>)\n",
                        "[SPU-TRACE]                 mpc.mul_aa(ArrayRef<4xaby3.AShr<FM64>>,ArrayRef<4xaby3.AShr<FM64>>)\n",
                        "[SPU-TRACE]           hal._trunc(Value<2x2xS*>,0)\n",
                        "[SPU-TRACE]             hal._truncpr_s(Value<2x2xS*>,18)\n",
                        "[SPU-TRACE]               mpc.truncpr_s(ArrayRef<4xaby3.AShr<FM64>>,18)\n",
                        "[SPU-TRACE]                 mpc.truncpr_a(ArrayRef<4xaby3.AShr<FM64>>,18)\n",
                        "[SPU-TRACE]         hal.constant(PtBufferView<0x7f1fd2ffae90,xPT_I32,>,2x2)\n",
                        "[SPU-TRACE]           hal.make_pub2k(PtBufferView<0x7f1fd2ffae90,xPT_I32,>)\n",
                        "[SPU-TRACE]           hal.broadcast_to(Value<xPI32>,2x2)\n",
                        "[SPU-TRACE]         hal.constant(PtBufferView<0x7f1fd2ffae90,xPT_F32,>,2x2)\n",
                        "[SPU-TRACE]           hal.make_pub2k(PtBufferView<0x7f1fd2ffae90,xPT_F32,>)\n",
                        "[SPU-TRACE]           hal.broadcast_to(Value<xPFXP>,2x2)\n",
                        "[SPU-TRACE]         hal._mul(Value<2x2xPI32>,Value<2x2xSFXP>)\n",
                        "[SPU-TRACE]           hal._mul_sp(Value<2x2xSFXP>,Value<2x2xPI32>)\n",
                        "[SPU-TRACE]             mpc.mul_sp(ArrayRef<4xaby3.AShr<FM64>>,ArrayRef<4xPub2k<FM64>>)\n",
                        "[SPU-TRACE]               mpc.mul_ap(ArrayRef<4xaby3.AShr<FM64>>,ArrayRef<4xPub2k<FM64>>)\n",
                        "[SPU-TRACE]         hal.f_sub(Value<2x2xPFXP>,Value<2x2xSFXP>)\n",
                        "[SPU-TRACE]           hal.f_negate(Value<2x2xSFXP>)\n",
                        "[SPU-TRACE]             hal._negate(Value<2x2xSFXP>)\n",
                        "[SPU-TRACE]               hal.constant(PtBufferView<0x7f1fd2ffa64c,xPT_I32,>,2x2)\n",
                        "[SPU-TRACE]                 hal.make_pub2k(PtBufferView<0x7f1fd2ffa64c,xPT_I32,>)\n",
                        "[SPU-TRACE]                 hal.broadcast_to(Value<xPI32>,2x2)\n",
                        "[SPU-TRACE]               hal._not(Value<2x2xSFXP>)\n",
                        "[SPU-TRACE]                 hal._not_s(Value<2x2xSFXP>)\n",
                        "[SPU-TRACE]                   mpc.not_s(ArrayRef<4xaby3.AShr<FM64>>)\n",
                        "[SPU-TRACE]                     mpc.not_a(ArrayRef<4xaby3.AShr<FM64>>)\n",
                        "[SPU-TRACE]               hal._add(Value<2x2xS*>,Value<2x2xPI32>)\n",
                        "[SPU-TRACE]                 hal._add_sp(Value<2x2xS*>,Value<2x2xPI32>)\n",
                        "[SPU-TRACE]                   mpc.add_sp(ArrayRef<4xaby3.AShr<FM64>>,ArrayRef<4xPub2k<FM64>>)\n",
                        "[SPU-TRACE]                     mpc.add_ap(ArrayRef<4xaby3.AShr<FM64>>,ArrayRef<4xPub2k<FM64>>)\n",
                        "[SPU-TRACE]           hal.f_add(Value<2x2xPFXP>,Value<2x2xSFXP>)\n",
                        "[SPU-TRACE]             hal._add(Value<2x2xPFXP>,Value<2x2xSFXP>)\n",
                        "[SPU-TRACE]               hal._add_sp(Value<2x2xSFXP>,Value<2x2xPFXP>)\n",
                        "[SPU-TRACE]                 mpc.add_sp(ArrayRef<4xaby3.AShr<FM64>>,ArrayRef<4xPub2k<FM64>>)\n",
                        "[SPU-TRACE]                   mpc.add_ap(ArrayRef<4xaby3.AShr<FM64>>,ArrayRef<4xPub2k<FM64>>)\n",
                        "[SPU-TRACE]         hal.f_mul(Value<2x2xSFXP>,Value<2x2xSFXP>)\n",
                        "[SPU-TRACE]           hal._mul(Value<2x2xSFXP>,Value<2x2xSFXP>)\n",
                        "[SPU-TRACE]             hal._mul_ss(Value<2x2xSFXP>,Value<2x2xSFXP>)\n",
                        "[SPU-TRACE]               mpc.mul_ss(ArrayRef<4xaby3.BShr<FM64,64>>,ArrayRef<4xaby3.AShr<FM64>>)\n",
                        "[SPU-TRACE]                 mpc.b2a(ArrayRef<4xaby3.BShr<FM64,64>>)\n",
                        "[SPU-TRACE]                 mpc.mul_aa(ArrayRef<4xaby3.AShr<FM64>>,ArrayRef<4xaby3.AShr<FM64>>)\n",
                        "[SPU-TRACE]           hal._trunc(Value<2x2xS*>,0)\n",
                        "[SPU-TRACE]             hal._truncpr_s(Value<2x2xS*>,18)\n",
                        "[SPU-TRACE]               mpc.truncpr_s(ArrayRef<4xaby3.AShr<FM64>>,18)\n",
                        "[SPU-TRACE]                 mpc.truncpr_a(ArrayRef<4xaby3.AShr<FM64>>,18)\n",
                        "[SPU-TRACE]         hal.constant(PtBufferView<0x7f1fd2ffae90,xPT_F32,>,2x2)\n",
                        "[SPU-TRACE]           hal.make_pub2k(PtBufferView<0x7f1fd2ffae90,xPT_F32,>)\n",
                        "[SPU-TRACE]           hal.broadcast_to(Value<xPFXP>,2x2)\n",
                        "[SPU-TRACE]         hal.f_mul(Value<2x2xPFXP>,Value<2x2xSFXP>)\n",
                        "[SPU-TRACE]           hal._mul(Value<2x2xPFXP>,Value<2x2xSFXP>)\n",
                        "[SPU-TRACE]             hal._mul_sp(Value<2x2xSFXP>,Value<2x2xPFXP>)\n",
                        "[SPU-TRACE]               mpc.mul_sp(ArrayRef<4xaby3.AShr<FM64>>,ArrayRef<4xPub2k<FM64>>)\n",
                        "[SPU-TRACE]                 mpc.mul_ap(ArrayRef<4xaby3.AShr<FM64>>,ArrayRef<4xPub2k<FM64>>)\n",
                        "[SPU-TRACE]           hal._trunc(Value<2x2xS*>,0)\n",
                        "[SPU-TRACE]             hal._truncpr_s(Value<2x2xS*>,18)\n",
                        "[SPU-TRACE]               mpc.truncpr_s(ArrayRef<4xaby3.AShr<FM64>>,18)\n",
                        "[SPU-TRACE]                 mpc.truncpr_a(ArrayRef<4xaby3.AShr<FM64>>,18)\n",
                        "[SPU-TRACE]         hal.f_mul(Value<2x2xSFXP>,Value<2x2xSFXP>)\n",
                        "[SPU-TRACE]           hal._mul(Value<2x2xSFXP>,Value<2x2xSFXP>)\n",
                        "[SPU-TRACE]             hal._mul_ss(Value<2x2xSFXP>,Value<2x2xSFXP>)\n",
                        "[SPU-TRACE]               mpc.mul_ss(ArrayRef<4xaby3.AShr<FM64>>,ArrayRef<4xaby3.AShr<FM64>>)\n",
                        "[SPU-TRACE]                 mpc.mul_aa(ArrayRef<4xaby3.AShr<FM64>>,ArrayRef<4xaby3.AShr<FM64>>)\n",
                        "[SPU-TRACE]           hal._trunc(Value<2x2xS*>,0)\n",
                        "[SPU-TRACE]             hal._truncpr_s(Value<2x2xS*>,18)\n",
                        "[SPU-TRACE]               mpc.truncpr_s(ArrayRef<4xaby3.AShr<FM64>>,18)\n",
                        "[SPU-TRACE]                 mpc.truncpr_a(ArrayRef<4xaby3.AShr<FM64>>,18)\n",
                        "[SPU-TRACE]         hal.f_sub(Value<2x2xPFXP>,Value<2x2xSFXP>)\n",
                        "[SPU-TRACE]           hal.f_negate(Value<2x2xSFXP>)\n",
                        "[SPU-TRACE]             hal._negate(Value<2x2xSFXP>)\n",
                        "[SPU-TRACE]               hal.constant(PtBufferView<0x7f1fd2ffa64c,xPT_I32,>,2x2)\n",
                        "[SPU-TRACE]                 hal.make_pub2k(PtBufferView<0x7f1fd2ffa64c,xPT_I32,>)\n",
                        "[SPU-TRACE]                 hal.broadcast_to(Value<xPI32>,2x2)\n",
                        "[SPU-TRACE]               hal._not(Value<2x2xSFXP>)\n",
                        "[SPU-TRACE]                 hal._not_s(Value<2x2xSFXP>)\n",
                        "[SPU-TRACE]                   mpc.not_s(ArrayRef<4xaby3.AShr<FM64>>)\n",
                        "[SPU-TRACE]                     mpc.not_a(ArrayRef<4xaby3.AShr<FM64>>)\n",
                        "[SPU-TRACE]               hal._add(Value<2x2xS*>,Value<2x2xPI32>)\n",
                        "[SPU-TRACE]                 hal._add_sp(Value<2x2xS*>,Value<2x2xPI32>)\n",
                        "[SPU-TRACE]                   mpc.add_sp(ArrayRef<4xaby3.AShr<FM64>>,ArrayRef<4xPub2k<FM64>>)\n",
                        "[SPU-TRACE]                     mpc.add_ap(ArrayRef<4xaby3.AShr<FM64>>,ArrayRef<4xPub2k<FM64>>)\n",
                        "[SPU-TRACE]           hal.f_add(Value<2x2xPFXP>,Value<2x2xSFXP>)\n",
                        "[SPU-TRACE]             hal._add(Value<2x2xPFXP>,Value<2x2xSFXP>)\n",
                        "[SPU-TRACE]               hal._add_sp(Value<2x2xSFXP>,Value<2x2xPFXP>)\n",
                        "[SPU-TRACE]                 mpc.add_sp(ArrayRef<4xaby3.AShr<FM64>>,ArrayRef<4xPub2k<FM64>>)\n",
                        "[SPU-TRACE]                   mpc.add_ap(ArrayRef<4xaby3.AShr<FM64>>,ArrayRef<4xPub2k<FM64>>)\n",
                        "[SPU-TRACE]         hal.f_add(Value<2x2xSFXP>,Value<2x2xPFXP>)\n",
                        "[SPU-TRACE]           hal._add(Value<2x2xSFXP>,Value<2x2xPFXP>)\n",
                        "[SPU-TRACE]             hal._add_sp(Value<2x2xSFXP>,Value<2x2xPFXP>)\n",
                        "[SPU-TRACE]               mpc.add_sp(ArrayRef<4xaby3.AShr<FM64>>,ArrayRef<4xPub2k<FM64>>)\n",
                        "[SPU-TRACE]                 mpc.add_ap(ArrayRef<4xaby3.AShr<FM64>>,ArrayRef<4xPub2k<FM64>>)\n",
                        "[SPU-TRACE]         hal.f_mul(Value<2x2xSFXP>,Value<2x2xSFXP>)\n",
                        "[SPU-TRACE]           hal._mul(Value<2x2xSFXP>,Value<2x2xSFXP>)\n",
                        "[SPU-TRACE]             hal._mul_ss(Value<2x2xSFXP>,Value<2x2xSFXP>)\n",
                        "[SPU-TRACE]               mpc.mul_ss(ArrayRef<4xaby3.AShr<FM64>>,ArrayRef<4xaby3.AShr<FM64>>)\n",
                        "[SPU-TRACE]                 mpc.mul_aa(ArrayRef<4xaby3.AShr<FM64>>,ArrayRef<4xaby3.AShr<FM64>>)\n",
                        "[SPU-TRACE]           hal._trunc(Value<2x2xS*>,0)\n",
                        "[SPU-TRACE]             hal._truncpr_s(Value<2x2xS*>,18)\n",
                        "[SPU-TRACE]               mpc.truncpr_s(ArrayRef<4xaby3.AShr<FM64>>,18)\n",
                        "[SPU-TRACE]                 mpc.truncpr_a(ArrayRef<4xaby3.AShr<FM64>>,18)\n",
                        "[SPU-TRACE]         hal.f_square(Value<2x2xSFXP>)\n",
                        "[SPU-TRACE]           hal.f_mul(Value<2x2xSFXP>,Value<2x2xSFXP>)\n",
                        "[SPU-TRACE]             hal._mul(Value<2x2xSFXP>,Value<2x2xSFXP>)\n",
                        "[SPU-TRACE]               hal._mul_ss(Value<2x2xSFXP>,Value<2x2xSFXP>)\n",
                        "[SPU-TRACE]                 mpc.mul_ss(ArrayRef<4xaby3.AShr<FM64>>,ArrayRef<4xaby3.AShr<FM64>>)\n",
                        "[SPU-TRACE]                   mpc.mul_aa(ArrayRef<4xaby3.AShr<FM64>>,ArrayRef<4xaby3.AShr<FM64>>)\n",
                        "[SPU-TRACE]             hal._trunc(Value<2x2xS*>,0)\n",
                        "[SPU-TRACE]               hal._truncpr_s(Value<2x2xS*>,18)\n",
                        "[SPU-TRACE]                 mpc.truncpr_s(ArrayRef<4xaby3.AShr<FM64>>,18)\n",
                        "[SPU-TRACE]                   mpc.truncpr_a(ArrayRef<4xaby3.AShr<FM64>>,18)\n",
                        "[SPU-TRACE]         hal.f_add(Value<2x2xSFXP>,Value<2x2xPFXP>)\n",
                        "[SPU-TRACE]           hal._add(Value<2x2xSFXP>,Value<2x2xPFXP>)\n",
                        "[SPU-TRACE]             hal._add_sp(Value<2x2xSFXP>,Value<2x2xPFXP>)\n",
                        "[SPU-TRACE]               mpc.add_sp(ArrayRef<4xaby3.AShr<FM64>>,ArrayRef<4xPub2k<FM64>>)\n",
                        "[SPU-TRACE]                 mpc.add_ap(ArrayRef<4xaby3.AShr<FM64>>,ArrayRef<4xPub2k<FM64>>)\n",
                        "[SPU-TRACE]         hal.f_mul(Value<2x2xSFXP>,Value<2x2xSFXP>)\n",
                        "[SPU-TRACE]           hal._mul(Value<2x2xSFXP>,Value<2x2xSFXP>)\n",
                        "[SPU-TRACE]             hal._mul_ss(Value<2x2xSFXP>,Value<2x2xSFXP>)\n",
                        "[SPU-TRACE]               mpc.mul_ss(ArrayRef<4xaby3.AShr<FM64>>,ArrayRef<4xaby3.AShr<FM64>>)\n",
                        "[SPU-TRACE]                 mpc.mul_aa(ArrayRef<4xaby3.AShr<FM64>>,ArrayRef<4xaby3.AShr<FM64>>)\n",
                        "[SPU-TRACE]           hal._trunc(Value<2x2xS*>,0)\n",
                        "[SPU-TRACE]             hal._truncpr_s(Value<2x2xS*>,18)\n",
                        "[SPU-TRACE]               mpc.truncpr_s(ArrayRef<4xaby3.AShr<FM64>>,18)\n",
                        "[SPU-TRACE]                 mpc.truncpr_a(ArrayRef<4xaby3.AShr<FM64>>,18)\n",
                        "[SPU-TRACE]         hal.f_square(Value<2x2xSFXP>)\n",
                        "[SPU-TRACE]           hal.f_mul(Value<2x2xSFXP>,Value<2x2xSFXP>)\n",
                        "[SPU-TRACE]             hal._mul(Value<2x2xSFXP>,Value<2x2xSFXP>)\n",
                        "[SPU-TRACE]               hal._mul_ss(Value<2x2xSFXP>,Value<2x2xSFXP>)\n",
                        "[SPU-TRACE]                 mpc.mul_ss(ArrayRef<4xaby3.AShr<FM64>>,ArrayRef<4xaby3.AShr<FM64>>)\n",
                        "[SPU-TRACE]                   mpc.mul_aa(ArrayRef<4xaby3.AShr<FM64>>,ArrayRef<4xaby3.AShr<FM64>>)\n",
                        "[SPU-TRACE]             hal._trunc(Value<2x2xS*>,0)\n",
                        "[SPU-TRACE]               hal._truncpr_s(Value<2x2xS*>,18)\n",
                        "[SPU-TRACE]                 mpc.truncpr_s(ArrayRef<4xaby3.AShr<FM64>>,18)\n",
                        "[SPU-TRACE]                   mpc.truncpr_a(ArrayRef<4xaby3.AShr<FM64>>,18)\n",
                        "[SPU-TRACE]         hal._mul(Value<2x2xSFXP>,Value<2x2xS*>)\n",
                        "[SPU-TRACE]           hal._mul_ss(Value<2x2xS*>,Value<2x2xSFXP>)\n",
                        "[SPU-TRACE]             mpc.mul_ss(ArrayRef<4xaby3.AShr<FM64>>,ArrayRef<4xaby3.AShr<FM64>>)\n",
                        "[SPU-TRACE]               mpc.mul_aa(ArrayRef<4xaby3.AShr<FM64>>,ArrayRef<4xaby3.AShr<FM64>>)\n"
                    ]
                }
            ],
            "source": [
                "spu_reciprocal = pps.sim_jax(simulator, jnp.reciprocal)\n",
                "z = spu_reciprocal(x)"
            ]
        },
        {
            "cell_type": "markdown",
            "id": "9a3fdc33-ad15-4165-a86d-1dda143465c0",
            "metadata": {},
            "source": [
                "Surprise, it's really a lot of ops!\n",
                "\n",
                "Yes, that's why MPC is still relatively slow and why SPU wants optimize it :P\n",
                "\n",
                "The `reciprocal` is still a relative simple operator, you can try more complicated op like `convolution`."
            ]
        },
        {
            "cell_type": "markdown",
            "id": "d28fb8c7-5ca5-44e7-a795-1edd042a6f1e",
            "metadata": {},
            "source": [
                "## Misc\n",
                "\n",
                "Simulation could be used to inspect other parts of SPU, i.e. the *fixed point arithmetic* accuracy.\n",
                "\n",
                "As the above example indicates, non-linear functions like `reciprocal` and `exp` are approximated with some numeric methods, so the result is not as accurate as floating point arithmetic.\n",
                "\n",
                "For example."
            ]
        },
        {
            "cell_type": "code",
            "execution_count": null,
            "id": "132ec47e",
            "metadata": {},
            "outputs": [],
            "source": [
                "%pip install matplotlib"
            ]
        },
        {
            "cell_type": "code",
            "execution_count": 10,
            "id": "9d4b6845-f129-490a-8be5-3e86ec5430a6",
            "metadata": {},
            "outputs": [
                {
                    "data": {
                        "image/png": "[encoded data removed]",
                        "text/plain": [
                            "<Figure size 432x288 with 1 Axes>"
                        ]
                    },
                    "metadata": {
                        "needs_background": "light"
                    },
                    "output_type": "display_data"
                }
            ],
            "source": [
                "from matplotlib import pyplot as plt\n",
                "\n",
                "simulator = pps.Simulator.simple(3, protocol, spu.FieldType.FM128)\n",
                "spu_exp = pps.sim_jax(simulator, jnp.exp)\n",
                "\n",
                "x = np.arange(0.,23.) \n",
                "spu_y = spu_exp(x)\n",
                "jax_y = jnp.exp(x)\n",
                "plt.title(\"Matplotlib demo\") \n",
                "plt.plot(x,spu_y)\n",
                "plt.plot(x,jax_y)\n",
                "plt.show()"
            ]
        },
        {
            "cell_type": "markdown",
            "id": "dff64df6-0586-414e-96ea-1e35cdec0e29",
            "metadata": {},
            "source": [
                "As we can see, the SPU version of `exp` (blue line) diverges with the standard version when input is larger. "
            ]
        },
        {
            "cell_type": "markdown",
            "id": "8c0e7ae9-72c3-43af-adb4-b273b16883ec",
            "metadata": {},
            "source": [
                "Finally, SPU, as a secure computation, behaves very differently from CPU, both in accuracy and cost model, when you are not sure about how it works, simulate on it! "
            ]
        }
    ],
    "metadata": {
        "kernelspec": {
            "display_name": "Python 3 (ipykernel)",
            "language": "python",
            "name": "python3"
        },
        "language_info": {
            "codemirror_mode": {
                "name": "ipython",
                "version": 3
            },
            "file_extension": ".py",
            "mimetype": "text/x-python",
            "name": "python",
            "nbconvert_exporter": "python",
            "pygments_lexer": "ipython3",
            "version": "3.9.5"
        }
    },
    "nbformat": 4,
    "nbformat_minor": 5
}
